{
  "nbformat": 4,
  "nbformat_minor": 0,
  "metadata": {
    "colab": {
      "name": "Sentimental Analysis.ipynb",
      "provenance": [],
      "authorship_tag": "ABX9TyORXgt8vvrsOg+SsMG0baNY"
    },
    "kernelspec": {
      "name": "python3",
      "display_name": "Python 3"
    },
    "language_info": {
      "name": "python"
    }
  },
  "cells": [
    {
      "cell_type": "code",
      "metadata": {
        "id": "XnIJXUAgtOE-"
      },
      "source": [
        "import numpy as np \n",
        "import pandas as pd\n",
        "\n",
        "import matplotlib.pyplot as plt\n",
        "from matplotlib.colors import LinearSegmentedColormap\n",
        "import seaborn as sns\n",
        "\n",
        "import re\n",
        "import string\n",
        "\n",
        "import nltk\n",
        "from nltk.corpus import stopwords\n",
        "from nltk.tokenize import word_tokenize\n",
        "from nltk.stem import SnowballStemmer\n",
        "from nltk.corpus import wordnet\n",
        "from nltk import pos_tag\n",
        "from nltk.stem import WordNetLemmatizer\n",
        "\n",
        "import spacy\n",
        "from wordcloud import WordCloud, STOPWORDS, ImageColorGenerator\n",
        "\n",
        "from collections import Counter\n",
        "\n",
        "from sklearn.feature_extraction.text import TfidfVectorizer\n",
        "from sklearn.model_selection import cross_validate\n",
        "from sklearn.model_selection import train_test_split\n",
        "from sklearn.model_selection import StratifiedKFold\n",
        "from sklearn.metrics import classification_report\n",
        "from sklearn.metrics import confusion_matrix\n",
        "from sklearn.metrics import roc_auc_score\n",
        "from sklearn.utils import shuffle\n",
        "from sklearn.naive_bayes import MultinomialNB\n",
        "from sklearn.preprocessing import OneHotEncoder\n",
        "from sklearn.preprocessing import LabelEncoder\n",
        "from sklearn.impute import SimpleImputer\n",
        "\n",
        "from xgboost import XGBClassifier\n",
        "\n",
        "# from transformers import pipeline\n",
        "\n",
        "import warnings\n",
        "warnings.filterwarnings('ignore')"
      ],
      "execution_count": 1,
      "outputs": []
    },
    {
      "cell_type": "code",
      "metadata": {
        "colab": {
          "base_uri": "https://localhost:8080/",
          "height": 564
        },
        "id": "rNNhDC9Tw4rm",
        "outputId": "d82f980e-1ce0-4e4b-cccd-4c8c43c8e4bf"
      },
      "source": [
        "df = pd.read_csv(\"https://media.githubusercontent.com/media/Tarshit/19CSE305-MachineLearning/main/Datafiniti_Amazon_Consumer_Reviews_of_Amazon_Products.csv\", low_memory=False)\n",
        "df.head()"
      ],
      "execution_count": 54,
      "outputs": [
        {
          "output_type": "execute_result",
          "data": {
            "text/html": [
              "<div>\n",
              "<style scoped>\n",
              "    .dataframe tbody tr th:only-of-type {\n",
              "        vertical-align: middle;\n",
              "    }\n",
              "\n",
              "    .dataframe tbody tr th {\n",
              "        vertical-align: top;\n",
              "    }\n",
              "\n",
              "    .dataframe thead th {\n",
              "        text-align: right;\n",
              "    }\n",
              "</style>\n",
              "<table border=\"1\" class=\"dataframe\">\n",
              "  <thead>\n",
              "    <tr style=\"text-align: right;\">\n",
              "      <th></th>\n",
              "      <th>id</th>\n",
              "      <th>dateAdded</th>\n",
              "      <th>dateUpdated</th>\n",
              "      <th>name</th>\n",
              "      <th>asins</th>\n",
              "      <th>brand</th>\n",
              "      <th>categories</th>\n",
              "      <th>primaryCategories</th>\n",
              "      <th>imageURLs</th>\n",
              "      <th>keys</th>\n",
              "      <th>manufacturer</th>\n",
              "      <th>manufacturerNumber</th>\n",
              "      <th>reviews.date</th>\n",
              "      <th>reviews.dateAdded</th>\n",
              "      <th>reviews.dateSeen</th>\n",
              "      <th>reviews.doRecommend</th>\n",
              "      <th>reviews.id</th>\n",
              "      <th>reviews.numHelpful</th>\n",
              "      <th>reviews.rating</th>\n",
              "      <th>reviews.sourceURLs</th>\n",
              "      <th>reviews.text</th>\n",
              "      <th>reviews.title</th>\n",
              "      <th>reviews.username</th>\n",
              "      <th>sourceURLs</th>\n",
              "    </tr>\n",
              "  </thead>\n",
              "  <tbody>\n",
              "    <tr>\n",
              "      <th>0</th>\n",
              "      <td>AVqVGZNvQMlgsOJE6eUY</td>\n",
              "      <td>2017-03-03T16:56:05Z</td>\n",
              "      <td>2018-10-25T16:36:31Z</td>\n",
              "      <td>Amazon Kindle E-Reader 6\" Wifi (8th Generation...</td>\n",
              "      <td>B00ZV9PXP2</td>\n",
              "      <td>Amazon</td>\n",
              "      <td>Computers,Electronics Features,Tablets,Electro...</td>\n",
              "      <td>Electronics</td>\n",
              "      <td>https://pisces.bbystatic.com/image2/BestBuy_US...</td>\n",
              "      <td>allnewkindleereaderblack6glarefreetouchscreend...</td>\n",
              "      <td>Amazon</td>\n",
              "      <td>B00ZV9PXP2</td>\n",
              "      <td>2017-09-03T00:00:00.000Z</td>\n",
              "      <td>NaN</td>\n",
              "      <td>2018-05-27T00:00:00Z,2017-09-18T00:00:00Z,2017...</td>\n",
              "      <td>False</td>\n",
              "      <td>NaN</td>\n",
              "      <td>0</td>\n",
              "      <td>3</td>\n",
              "      <td>http://reviews.bestbuy.com/3545/5442403/review...</td>\n",
              "      <td>I thought it would be as big as small paper bu...</td>\n",
              "      <td>Too small</td>\n",
              "      <td>llyyue</td>\n",
              "      <td>https://www.newegg.com/Product/Product.aspx%25...</td>\n",
              "    </tr>\n",
              "    <tr>\n",
              "      <th>1</th>\n",
              "      <td>AVqVGZNvQMlgsOJE6eUY</td>\n",
              "      <td>2017-03-03T16:56:05Z</td>\n",
              "      <td>2018-10-25T16:36:31Z</td>\n",
              "      <td>Amazon Kindle E-Reader 6\" Wifi (8th Generation...</td>\n",
              "      <td>B00ZV9PXP2</td>\n",
              "      <td>Amazon</td>\n",
              "      <td>Computers,Electronics Features,Tablets,Electro...</td>\n",
              "      <td>Electronics</td>\n",
              "      <td>https://pisces.bbystatic.com/image2/BestBuy_US...</td>\n",
              "      <td>allnewkindleereaderblack6glarefreetouchscreend...</td>\n",
              "      <td>Amazon</td>\n",
              "      <td>B00ZV9PXP2</td>\n",
              "      <td>2017-06-06T00:00:00.000Z</td>\n",
              "      <td>NaN</td>\n",
              "      <td>2018-05-27T00:00:00Z,2017-07-07T00:00:00Z,2017...</td>\n",
              "      <td>True</td>\n",
              "      <td>NaN</td>\n",
              "      <td>0</td>\n",
              "      <td>5</td>\n",
              "      <td>http://reviews.bestbuy.com/3545/5442403/review...</td>\n",
              "      <td>This kindle is light and easy to use especiall...</td>\n",
              "      <td>Great light reader. Easy to use at the beach</td>\n",
              "      <td>Charmi</td>\n",
              "      <td>https://www.newegg.com/Product/Product.aspx%25...</td>\n",
              "    </tr>\n",
              "    <tr>\n",
              "      <th>2</th>\n",
              "      <td>AVqVGZNvQMlgsOJE6eUY</td>\n",
              "      <td>2017-03-03T16:56:05Z</td>\n",
              "      <td>2018-10-25T16:36:31Z</td>\n",
              "      <td>Amazon Kindle E-Reader 6\" Wifi (8th Generation...</td>\n",
              "      <td>B00ZV9PXP2</td>\n",
              "      <td>Amazon</td>\n",
              "      <td>Computers,Electronics Features,Tablets,Electro...</td>\n",
              "      <td>Electronics</td>\n",
              "      <td>https://pisces.bbystatic.com/image2/BestBuy_US...</td>\n",
              "      <td>allnewkindleereaderblack6glarefreetouchscreend...</td>\n",
              "      <td>Amazon</td>\n",
              "      <td>B00ZV9PXP2</td>\n",
              "      <td>2018-04-20T00:00:00.000Z</td>\n",
              "      <td>NaN</td>\n",
              "      <td>2018-05-27T00:00:00Z</td>\n",
              "      <td>True</td>\n",
              "      <td>NaN</td>\n",
              "      <td>0</td>\n",
              "      <td>4</td>\n",
              "      <td>https://reviews.bestbuy.com/3545/5442403/revie...</td>\n",
              "      <td>Didnt know how much i'd use a kindle so went f...</td>\n",
              "      <td>Great for the price</td>\n",
              "      <td>johnnyjojojo</td>\n",
              "      <td>https://www.newegg.com/Product/Product.aspx%25...</td>\n",
              "    </tr>\n",
              "    <tr>\n",
              "      <th>3</th>\n",
              "      <td>AVqVGZNvQMlgsOJE6eUY</td>\n",
              "      <td>2017-03-03T16:56:05Z</td>\n",
              "      <td>2018-10-25T16:36:31Z</td>\n",
              "      <td>Amazon Kindle E-Reader 6\" Wifi (8th Generation...</td>\n",
              "      <td>B00ZV9PXP2</td>\n",
              "      <td>Amazon</td>\n",
              "      <td>Computers,Electronics Features,Tablets,Electro...</td>\n",
              "      <td>Electronics</td>\n",
              "      <td>https://pisces.bbystatic.com/image2/BestBuy_US...</td>\n",
              "      <td>allnewkindleereaderblack6glarefreetouchscreend...</td>\n",
              "      <td>Amazon</td>\n",
              "      <td>B00ZV9PXP2</td>\n",
              "      <td>2017-11-02T17:33:31.000Z</td>\n",
              "      <td>NaN</td>\n",
              "      <td>2018-10-09T00:00:00Z</td>\n",
              "      <td>True</td>\n",
              "      <td>177283626.0</td>\n",
              "      <td>3</td>\n",
              "      <td>5</td>\n",
              "      <td>https://redsky.target.com/groot-domain-api/v1/...</td>\n",
              "      <td>I am 100 happy with my purchase. I caught it o...</td>\n",
              "      <td>A Great Buy</td>\n",
              "      <td>Kdperry</td>\n",
              "      <td>https://www.newegg.com/Product/Product.aspx%25...</td>\n",
              "    </tr>\n",
              "    <tr>\n",
              "      <th>4</th>\n",
              "      <td>AVqVGZNvQMlgsOJE6eUY</td>\n",
              "      <td>2017-03-03T16:56:05Z</td>\n",
              "      <td>2018-10-25T16:36:31Z</td>\n",
              "      <td>Amazon Kindle E-Reader 6\" Wifi (8th Generation...</td>\n",
              "      <td>B00ZV9PXP2</td>\n",
              "      <td>Amazon</td>\n",
              "      <td>Computers,Electronics Features,Tablets,Electro...</td>\n",
              "      <td>Electronics</td>\n",
              "      <td>https://pisces.bbystatic.com/image2/BestBuy_US...</td>\n",
              "      <td>allnewkindleereaderblack6glarefreetouchscreend...</td>\n",
              "      <td>Amazon</td>\n",
              "      <td>B00ZV9PXP2</td>\n",
              "      <td>2018-04-24T00:00:00.000Z</td>\n",
              "      <td>NaN</td>\n",
              "      <td>2018-05-27T00:00:00Z</td>\n",
              "      <td>True</td>\n",
              "      <td>NaN</td>\n",
              "      <td>0</td>\n",
              "      <td>5</td>\n",
              "      <td>https://reviews.bestbuy.com/3545/5442403/revie...</td>\n",
              "      <td>Solid entry level Kindle. Great for kids. Gift...</td>\n",
              "      <td>Solid entry-level Kindle. Great for kids</td>\n",
              "      <td>Johnnyblack</td>\n",
              "      <td>https://www.newegg.com/Product/Product.aspx%25...</td>\n",
              "    </tr>\n",
              "  </tbody>\n",
              "</table>\n",
              "</div>"
            ],
            "text/plain": [
              "                     id  ...                                         sourceURLs\n",
              "0  AVqVGZNvQMlgsOJE6eUY  ...  https://www.newegg.com/Product/Product.aspx%25...\n",
              "1  AVqVGZNvQMlgsOJE6eUY  ...  https://www.newegg.com/Product/Product.aspx%25...\n",
              "2  AVqVGZNvQMlgsOJE6eUY  ...  https://www.newegg.com/Product/Product.aspx%25...\n",
              "3  AVqVGZNvQMlgsOJE6eUY  ...  https://www.newegg.com/Product/Product.aspx%25...\n",
              "4  AVqVGZNvQMlgsOJE6eUY  ...  https://www.newegg.com/Product/Product.aspx%25...\n",
              "\n",
              "[5 rows x 24 columns]"
            ]
          },
          "metadata": {},
          "execution_count": 54
        }
      ]
    },
    {
      "cell_type": "code",
      "metadata": {
        "colab": {
          "base_uri": "https://localhost:8080/"
        },
        "id": "ZbFplXXdxOq0",
        "outputId": "f63a8442-40ce-4218-fee8-f78a78fafab8"
      },
      "source": [
        "df.shape"
      ],
      "execution_count": 3,
      "outputs": [
        {
          "output_type": "execute_result",
          "data": {
            "text/plain": [
              "(5000, 24)"
            ]
          },
          "metadata": {},
          "execution_count": 3
        }
      ]
    },
    {
      "cell_type": "code",
      "metadata": {
        "id": "olwG0mMo7A_5"
      },
      "source": [
        "df2 = pd.read_csv('https://media.githubusercontent.com/media/Tarshit/19CSE305-MachineLearning/main/Datafiniti_Amazon_Consumer_Reviews_of_Amazon_Products_May19.csv', low_memory=False)"
      ],
      "execution_count": 55,
      "outputs": []
    },
    {
      "cell_type": "code",
      "metadata": {
        "colab": {
          "base_uri": "https://localhost:8080/",
          "height": 819
        },
        "id": "h3QaIjBD__qL",
        "outputId": "c98f1cc8-9709-4784-cace-c79be5f544ae"
      },
      "source": [
        "df2.tail()"
      ],
      "execution_count": 5,
      "outputs": [
        {
          "output_type": "execute_result",
          "data": {
            "text/html": [
              "<div>\n",
              "<style scoped>\n",
              "    .dataframe tbody tr th:only-of-type {\n",
              "        vertical-align: middle;\n",
              "    }\n",
              "\n",
              "    .dataframe tbody tr th {\n",
              "        vertical-align: top;\n",
              "    }\n",
              "\n",
              "    .dataframe thead th {\n",
              "        text-align: right;\n",
              "    }\n",
              "</style>\n",
              "<table border=\"1\" class=\"dataframe\">\n",
              "  <thead>\n",
              "    <tr style=\"text-align: right;\">\n",
              "      <th></th>\n",
              "      <th>id</th>\n",
              "      <th>dateAdded</th>\n",
              "      <th>dateUpdated</th>\n",
              "      <th>name</th>\n",
              "      <th>asins</th>\n",
              "      <th>brand</th>\n",
              "      <th>categories</th>\n",
              "      <th>primaryCategories</th>\n",
              "      <th>imageURLs</th>\n",
              "      <th>keys</th>\n",
              "      <th>manufacturer</th>\n",
              "      <th>manufacturerNumber</th>\n",
              "      <th>reviews.date</th>\n",
              "      <th>reviews.dateSeen</th>\n",
              "      <th>reviews.didPurchase</th>\n",
              "      <th>reviews.doRecommend</th>\n",
              "      <th>reviews.id</th>\n",
              "      <th>reviews.numHelpful</th>\n",
              "      <th>reviews.rating</th>\n",
              "      <th>reviews.sourceURLs</th>\n",
              "      <th>reviews.text</th>\n",
              "      <th>reviews.title</th>\n",
              "      <th>reviews.username</th>\n",
              "      <th>sourceURLs</th>\n",
              "    </tr>\n",
              "  </thead>\n",
              "  <tbody>\n",
              "    <tr>\n",
              "      <th>28327</th>\n",
              "      <td>AVqkIhxunnc1JgDc3kg_</td>\n",
              "      <td>2017-03-06T14:59:43Z</td>\n",
              "      <td>2019-02-23T02:49:38Z</td>\n",
              "      <td>Fire HD 8 Tablet with Alexa, 8 HD Display, 16 ...</td>\n",
              "      <td>B018T075DC</td>\n",
              "      <td>Amazon</td>\n",
              "      <td>Fire Tablets,Tablets,All Tablets,Amazon Tablet...</td>\n",
              "      <td>Electronics</td>\n",
              "      <td>https://www.upccodesearch.com/images/barcode/0...</td>\n",
              "      <td>amazon/b018t075dc,firehd8tabletwithalexa8hddis...</td>\n",
              "      <td>Amazon</td>\n",
              "      <td>53-004485</td>\n",
              "      <td>2016-12-07T00:00:00.000Z</td>\n",
              "      <td>2017-04-30T00:00:00Z,2017-06-07T00:00:00Z</td>\n",
              "      <td>NaN</td>\n",
              "      <td>True</td>\n",
              "      <td>NaN</td>\n",
              "      <td>0.0</td>\n",
              "      <td>5</td>\n",
              "      <td>http://reviews.bestbuy.com/3545/5620410/review...</td>\n",
              "      <td>I got 2 of these for my 8 yr old twins. My 11 ...</td>\n",
              "      <td>Xmas gift</td>\n",
              "      <td>Mom2twinsplus1</td>\n",
              "      <td>http://reviews.bestbuy.com/3545/5620410/review...</td>\n",
              "    </tr>\n",
              "    <tr>\n",
              "      <th>28328</th>\n",
              "      <td>AVqkIhxunnc1JgDc3kg_</td>\n",
              "      <td>2017-03-06T14:59:43Z</td>\n",
              "      <td>2019-02-23T02:49:38Z</td>\n",
              "      <td>Fire HD 8 Tablet with Alexa, 8 HD Display, 16 ...</td>\n",
              "      <td>B018T075DC</td>\n",
              "      <td>Amazon</td>\n",
              "      <td>Fire Tablets,Tablets,All Tablets,Amazon Tablet...</td>\n",
              "      <td>Electronics</td>\n",
              "      <td>https://www.upccodesearch.com/images/barcode/0...</td>\n",
              "      <td>amazon/b018t075dc,firehd8tabletwithalexa8hddis...</td>\n",
              "      <td>Amazon</td>\n",
              "      <td>53-004485</td>\n",
              "      <td>2017-01-20T00:00:00.000Z</td>\n",
              "      <td>2017-04-30T00:00:00Z,2017-06-07T00:00:00Z</td>\n",
              "      <td>NaN</td>\n",
              "      <td>True</td>\n",
              "      <td>NaN</td>\n",
              "      <td>0.0</td>\n",
              "      <td>4</td>\n",
              "      <td>http://reviews.bestbuy.com/3545/5620410/review...</td>\n",
              "      <td>I bought this for my niece for a Christmas gif...</td>\n",
              "      <td>yes it is a great tablet.</td>\n",
              "      <td>fireman21</td>\n",
              "      <td>http://reviews.bestbuy.com/3545/5620410/review...</td>\n",
              "    </tr>\n",
              "    <tr>\n",
              "      <th>28329</th>\n",
              "      <td>AVqkIhxunnc1JgDc3kg_</td>\n",
              "      <td>2017-03-06T14:59:43Z</td>\n",
              "      <td>2019-02-23T02:49:38Z</td>\n",
              "      <td>Fire HD 8 Tablet with Alexa, 8 HD Display, 16 ...</td>\n",
              "      <td>B018T075DC</td>\n",
              "      <td>Amazon</td>\n",
              "      <td>Fire Tablets,Tablets,All Tablets,Amazon Tablet...</td>\n",
              "      <td>Electronics</td>\n",
              "      <td>https://www.upccodesearch.com/images/barcode/0...</td>\n",
              "      <td>amazon/b018t075dc,firehd8tabletwithalexa8hddis...</td>\n",
              "      <td>Amazon</td>\n",
              "      <td>53-004485</td>\n",
              "      <td>2017-01-30T00:00:00.000Z</td>\n",
              "      <td>2017-04-30T00:00:00Z,2017-06-07T00:00:00Z</td>\n",
              "      <td>NaN</td>\n",
              "      <td>True</td>\n",
              "      <td>NaN</td>\n",
              "      <td>0.0</td>\n",
              "      <td>5</td>\n",
              "      <td>http://reviews.bestbuy.com/3545/5620410/review...</td>\n",
              "      <td>Very nice for light internet browsing, keeping...</td>\n",
              "      <td>You get a lot for the price!</td>\n",
              "      <td>suzannalicious</td>\n",
              "      <td>http://reviews.bestbuy.com/3545/5620410/review...</td>\n",
              "    </tr>\n",
              "    <tr>\n",
              "      <th>28330</th>\n",
              "      <td>AVqkIhxunnc1JgDc3kg_</td>\n",
              "      <td>2017-03-06T14:59:43Z</td>\n",
              "      <td>2019-02-23T02:49:38Z</td>\n",
              "      <td>Fire HD 8 Tablet with Alexa, 8 HD Display, 16 ...</td>\n",
              "      <td>B018T075DC</td>\n",
              "      <td>Amazon</td>\n",
              "      <td>Fire Tablets,Tablets,All Tablets,Amazon Tablet...</td>\n",
              "      <td>Electronics</td>\n",
              "      <td>https://www.upccodesearch.com/images/barcode/0...</td>\n",
              "      <td>amazon/b018t075dc,firehd8tabletwithalexa8hddis...</td>\n",
              "      <td>Amazon</td>\n",
              "      <td>53-004485</td>\n",
              "      <td>2017-02-17T00:00:00.000Z</td>\n",
              "      <td>2017-04-30T00:00:00Z,2017-06-07T00:00:00Z</td>\n",
              "      <td>NaN</td>\n",
              "      <td>True</td>\n",
              "      <td>NaN</td>\n",
              "      <td>0.0</td>\n",
              "      <td>5</td>\n",
              "      <td>http://reviews.bestbuy.com/3545/5620410/review...</td>\n",
              "      <td>This Tablet does absolutely everything I want!...</td>\n",
              "      <td>You get the entire World for less than $100!</td>\n",
              "      <td>SandyJ</td>\n",
              "      <td>http://reviews.bestbuy.com/3545/5620410/review...</td>\n",
              "    </tr>\n",
              "    <tr>\n",
              "      <th>28331</th>\n",
              "      <td>AVqkIhxunnc1JgDc3kg_</td>\n",
              "      <td>2017-03-06T14:59:43Z</td>\n",
              "      <td>2019-02-23T02:49:38Z</td>\n",
              "      <td>Fire HD 8 Tablet with Alexa, 8 HD Display, 16 ...</td>\n",
              "      <td>B018T075DC</td>\n",
              "      <td>Amazon</td>\n",
              "      <td>Fire Tablets,Tablets,All Tablets,Amazon Tablet...</td>\n",
              "      <td>Electronics</td>\n",
              "      <td>https://www.upccodesearch.com/images/barcode/0...</td>\n",
              "      <td>amazon/b018t075dc,firehd8tabletwithalexa8hddis...</td>\n",
              "      <td>Amazon</td>\n",
              "      <td>53-004485</td>\n",
              "      <td>2016-12-23T00:00:00.000Z</td>\n",
              "      <td>2017-04-30T00:00:00Z,2017-06-07T00:00:00Z</td>\n",
              "      <td>NaN</td>\n",
              "      <td>True</td>\n",
              "      <td>NaN</td>\n",
              "      <td>0.0</td>\n",
              "      <td>4</td>\n",
              "      <td>http://reviews.bestbuy.com/3545/5620410/review...</td>\n",
              "      <td>At ninety dollars, the expectionations are low...</td>\n",
              "      <td>You get what your paying for</td>\n",
              "      <td>Hung</td>\n",
              "      <td>http://reviews.bestbuy.com/3545/5620410/review...</td>\n",
              "    </tr>\n",
              "  </tbody>\n",
              "</table>\n",
              "</div>"
            ],
            "text/plain": [
              "                         id  ...                                         sourceURLs\n",
              "28327  AVqkIhxunnc1JgDc3kg_  ...  http://reviews.bestbuy.com/3545/5620410/review...\n",
              "28328  AVqkIhxunnc1JgDc3kg_  ...  http://reviews.bestbuy.com/3545/5620410/review...\n",
              "28329  AVqkIhxunnc1JgDc3kg_  ...  http://reviews.bestbuy.com/3545/5620410/review...\n",
              "28330  AVqkIhxunnc1JgDc3kg_  ...  http://reviews.bestbuy.com/3545/5620410/review...\n",
              "28331  AVqkIhxunnc1JgDc3kg_  ...  http://reviews.bestbuy.com/3545/5620410/review...\n",
              "\n",
              "[5 rows x 24 columns]"
            ]
          },
          "metadata": {},
          "execution_count": 5
        }
      ]
    },
    {
      "cell_type": "code",
      "metadata": {
        "colab": {
          "base_uri": "https://localhost:8080/"
        },
        "id": "DjakecxkGRqR",
        "outputId": "fe079a67-a159-4ead-f9fe-4c866d2e3d6c"
      },
      "source": [
        "df2.shape"
      ],
      "execution_count": 6,
      "outputs": [
        {
          "output_type": "execute_result",
          "data": {
            "text/plain": [
              "(28332, 24)"
            ]
          },
          "metadata": {},
          "execution_count": 6
        }
      ]
    },
    {
      "cell_type": "code",
      "metadata": {
        "id": "K0OjqrbKC-e9"
      },
      "source": [
        "data = df.append(df2)"
      ],
      "execution_count": 7,
      "outputs": []
    },
    {
      "cell_type": "code",
      "metadata": {
        "colab": {
          "base_uri": "https://localhost:8080/",
          "height": 819
        },
        "id": "3KgIMlN_DVCV",
        "outputId": "364cad8f-1b91-4474-9988-d53acc9dfff8"
      },
      "source": [
        "data.tail()"
      ],
      "execution_count": 8,
      "outputs": [
        {
          "output_type": "execute_result",
          "data": {
            "text/html": [
              "<div>\n",
              "<style scoped>\n",
              "    .dataframe tbody tr th:only-of-type {\n",
              "        vertical-align: middle;\n",
              "    }\n",
              "\n",
              "    .dataframe tbody tr th {\n",
              "        vertical-align: top;\n",
              "    }\n",
              "\n",
              "    .dataframe thead th {\n",
              "        text-align: right;\n",
              "    }\n",
              "</style>\n",
              "<table border=\"1\" class=\"dataframe\">\n",
              "  <thead>\n",
              "    <tr style=\"text-align: right;\">\n",
              "      <th></th>\n",
              "      <th>id</th>\n",
              "      <th>dateAdded</th>\n",
              "      <th>dateUpdated</th>\n",
              "      <th>name</th>\n",
              "      <th>asins</th>\n",
              "      <th>brand</th>\n",
              "      <th>categories</th>\n",
              "      <th>primaryCategories</th>\n",
              "      <th>imageURLs</th>\n",
              "      <th>keys</th>\n",
              "      <th>manufacturer</th>\n",
              "      <th>manufacturerNumber</th>\n",
              "      <th>reviews.date</th>\n",
              "      <th>reviews.dateAdded</th>\n",
              "      <th>reviews.dateSeen</th>\n",
              "      <th>reviews.doRecommend</th>\n",
              "      <th>reviews.id</th>\n",
              "      <th>reviews.numHelpful</th>\n",
              "      <th>reviews.rating</th>\n",
              "      <th>reviews.sourceURLs</th>\n",
              "      <th>reviews.text</th>\n",
              "      <th>reviews.title</th>\n",
              "      <th>reviews.username</th>\n",
              "      <th>sourceURLs</th>\n",
              "      <th>reviews.didPurchase</th>\n",
              "    </tr>\n",
              "  </thead>\n",
              "  <tbody>\n",
              "    <tr>\n",
              "      <th>28327</th>\n",
              "      <td>AVqkIhxunnc1JgDc3kg_</td>\n",
              "      <td>2017-03-06T14:59:43Z</td>\n",
              "      <td>2019-02-23T02:49:38Z</td>\n",
              "      <td>Fire HD 8 Tablet with Alexa, 8 HD Display, 16 ...</td>\n",
              "      <td>B018T075DC</td>\n",
              "      <td>Amazon</td>\n",
              "      <td>Fire Tablets,Tablets,All Tablets,Amazon Tablet...</td>\n",
              "      <td>Electronics</td>\n",
              "      <td>https://www.upccodesearch.com/images/barcode/0...</td>\n",
              "      <td>amazon/b018t075dc,firehd8tabletwithalexa8hddis...</td>\n",
              "      <td>Amazon</td>\n",
              "      <td>53-004485</td>\n",
              "      <td>2016-12-07T00:00:00.000Z</td>\n",
              "      <td>NaN</td>\n",
              "      <td>2017-04-30T00:00:00Z,2017-06-07T00:00:00Z</td>\n",
              "      <td>True</td>\n",
              "      <td>NaN</td>\n",
              "      <td>0.0</td>\n",
              "      <td>5</td>\n",
              "      <td>http://reviews.bestbuy.com/3545/5620410/review...</td>\n",
              "      <td>I got 2 of these for my 8 yr old twins. My 11 ...</td>\n",
              "      <td>Xmas gift</td>\n",
              "      <td>Mom2twinsplus1</td>\n",
              "      <td>http://reviews.bestbuy.com/3545/5620410/review...</td>\n",
              "      <td>NaN</td>\n",
              "    </tr>\n",
              "    <tr>\n",
              "      <th>28328</th>\n",
              "      <td>AVqkIhxunnc1JgDc3kg_</td>\n",
              "      <td>2017-03-06T14:59:43Z</td>\n",
              "      <td>2019-02-23T02:49:38Z</td>\n",
              "      <td>Fire HD 8 Tablet with Alexa, 8 HD Display, 16 ...</td>\n",
              "      <td>B018T075DC</td>\n",
              "      <td>Amazon</td>\n",
              "      <td>Fire Tablets,Tablets,All Tablets,Amazon Tablet...</td>\n",
              "      <td>Electronics</td>\n",
              "      <td>https://www.upccodesearch.com/images/barcode/0...</td>\n",
              "      <td>amazon/b018t075dc,firehd8tabletwithalexa8hddis...</td>\n",
              "      <td>Amazon</td>\n",
              "      <td>53-004485</td>\n",
              "      <td>2017-01-20T00:00:00.000Z</td>\n",
              "      <td>NaN</td>\n",
              "      <td>2017-04-30T00:00:00Z,2017-06-07T00:00:00Z</td>\n",
              "      <td>True</td>\n",
              "      <td>NaN</td>\n",
              "      <td>0.0</td>\n",
              "      <td>4</td>\n",
              "      <td>http://reviews.bestbuy.com/3545/5620410/review...</td>\n",
              "      <td>I bought this for my niece for a Christmas gif...</td>\n",
              "      <td>yes it is a great tablet.</td>\n",
              "      <td>fireman21</td>\n",
              "      <td>http://reviews.bestbuy.com/3545/5620410/review...</td>\n",
              "      <td>NaN</td>\n",
              "    </tr>\n",
              "    <tr>\n",
              "      <th>28329</th>\n",
              "      <td>AVqkIhxunnc1JgDc3kg_</td>\n",
              "      <td>2017-03-06T14:59:43Z</td>\n",
              "      <td>2019-02-23T02:49:38Z</td>\n",
              "      <td>Fire HD 8 Tablet with Alexa, 8 HD Display, 16 ...</td>\n",
              "      <td>B018T075DC</td>\n",
              "      <td>Amazon</td>\n",
              "      <td>Fire Tablets,Tablets,All Tablets,Amazon Tablet...</td>\n",
              "      <td>Electronics</td>\n",
              "      <td>https://www.upccodesearch.com/images/barcode/0...</td>\n",
              "      <td>amazon/b018t075dc,firehd8tabletwithalexa8hddis...</td>\n",
              "      <td>Amazon</td>\n",
              "      <td>53-004485</td>\n",
              "      <td>2017-01-30T00:00:00.000Z</td>\n",
              "      <td>NaN</td>\n",
              "      <td>2017-04-30T00:00:00Z,2017-06-07T00:00:00Z</td>\n",
              "      <td>True</td>\n",
              "      <td>NaN</td>\n",
              "      <td>0.0</td>\n",
              "      <td>5</td>\n",
              "      <td>http://reviews.bestbuy.com/3545/5620410/review...</td>\n",
              "      <td>Very nice for light internet browsing, keeping...</td>\n",
              "      <td>You get a lot for the price!</td>\n",
              "      <td>suzannalicious</td>\n",
              "      <td>http://reviews.bestbuy.com/3545/5620410/review...</td>\n",
              "      <td>NaN</td>\n",
              "    </tr>\n",
              "    <tr>\n",
              "      <th>28330</th>\n",
              "      <td>AVqkIhxunnc1JgDc3kg_</td>\n",
              "      <td>2017-03-06T14:59:43Z</td>\n",
              "      <td>2019-02-23T02:49:38Z</td>\n",
              "      <td>Fire HD 8 Tablet with Alexa, 8 HD Display, 16 ...</td>\n",
              "      <td>B018T075DC</td>\n",
              "      <td>Amazon</td>\n",
              "      <td>Fire Tablets,Tablets,All Tablets,Amazon Tablet...</td>\n",
              "      <td>Electronics</td>\n",
              "      <td>https://www.upccodesearch.com/images/barcode/0...</td>\n",
              "      <td>amazon/b018t075dc,firehd8tabletwithalexa8hddis...</td>\n",
              "      <td>Amazon</td>\n",
              "      <td>53-004485</td>\n",
              "      <td>2017-02-17T00:00:00.000Z</td>\n",
              "      <td>NaN</td>\n",
              "      <td>2017-04-30T00:00:00Z,2017-06-07T00:00:00Z</td>\n",
              "      <td>True</td>\n",
              "      <td>NaN</td>\n",
              "      <td>0.0</td>\n",
              "      <td>5</td>\n",
              "      <td>http://reviews.bestbuy.com/3545/5620410/review...</td>\n",
              "      <td>This Tablet does absolutely everything I want!...</td>\n",
              "      <td>You get the entire World for less than $100!</td>\n",
              "      <td>SandyJ</td>\n",
              "      <td>http://reviews.bestbuy.com/3545/5620410/review...</td>\n",
              "      <td>NaN</td>\n",
              "    </tr>\n",
              "    <tr>\n",
              "      <th>28331</th>\n",
              "      <td>AVqkIhxunnc1JgDc3kg_</td>\n",
              "      <td>2017-03-06T14:59:43Z</td>\n",
              "      <td>2019-02-23T02:49:38Z</td>\n",
              "      <td>Fire HD 8 Tablet with Alexa, 8 HD Display, 16 ...</td>\n",
              "      <td>B018T075DC</td>\n",
              "      <td>Amazon</td>\n",
              "      <td>Fire Tablets,Tablets,All Tablets,Amazon Tablet...</td>\n",
              "      <td>Electronics</td>\n",
              "      <td>https://www.upccodesearch.com/images/barcode/0...</td>\n",
              "      <td>amazon/b018t075dc,firehd8tabletwithalexa8hddis...</td>\n",
              "      <td>Amazon</td>\n",
              "      <td>53-004485</td>\n",
              "      <td>2016-12-23T00:00:00.000Z</td>\n",
              "      <td>NaN</td>\n",
              "      <td>2017-04-30T00:00:00Z,2017-06-07T00:00:00Z</td>\n",
              "      <td>True</td>\n",
              "      <td>NaN</td>\n",
              "      <td>0.0</td>\n",
              "      <td>4</td>\n",
              "      <td>http://reviews.bestbuy.com/3545/5620410/review...</td>\n",
              "      <td>At ninety dollars, the expectionations are low...</td>\n",
              "      <td>You get what your paying for</td>\n",
              "      <td>Hung</td>\n",
              "      <td>http://reviews.bestbuy.com/3545/5620410/review...</td>\n",
              "      <td>NaN</td>\n",
              "    </tr>\n",
              "  </tbody>\n",
              "</table>\n",
              "</div>"
            ],
            "text/plain": [
              "                         id  ... reviews.didPurchase\n",
              "28327  AVqkIhxunnc1JgDc3kg_  ...                 NaN\n",
              "28328  AVqkIhxunnc1JgDc3kg_  ...                 NaN\n",
              "28329  AVqkIhxunnc1JgDc3kg_  ...                 NaN\n",
              "28330  AVqkIhxunnc1JgDc3kg_  ...                 NaN\n",
              "28331  AVqkIhxunnc1JgDc3kg_  ...                 NaN\n",
              "\n",
              "[5 rows x 25 columns]"
            ]
          },
          "metadata": {},
          "execution_count": 8
        }
      ]
    },
    {
      "cell_type": "code",
      "metadata": {
        "colab": {
          "base_uri": "https://localhost:8080/"
        },
        "id": "gQMTjGHqGat8",
        "outputId": "6980a15c-fff3-48ea-f4f3-8c2527e283fd"
      },
      "source": [
        "data.info()"
      ],
      "execution_count": 9,
      "outputs": [
        {
          "output_type": "stream",
          "name": "stdout",
          "text": [
            "<class 'pandas.core.frame.DataFrame'>\n",
            "Int64Index: 33332 entries, 0 to 28331\n",
            "Data columns (total 25 columns):\n",
            " #   Column               Non-Null Count  Dtype  \n",
            "---  ------               --------------  -----  \n",
            " 0   id                   33332 non-null  object \n",
            " 1   dateAdded            33332 non-null  object \n",
            " 2   dateUpdated          33332 non-null  object \n",
            " 3   name                 33332 non-null  object \n",
            " 4   asins                33332 non-null  object \n",
            " 5   brand                33332 non-null  object \n",
            " 6   categories           33332 non-null  object \n",
            " 7   primaryCategories    33332 non-null  object \n",
            " 8   imageURLs            33332 non-null  object \n",
            " 9   keys                 33332 non-null  object \n",
            " 10  manufacturer         33332 non-null  object \n",
            " 11  manufacturerNumber   33332 non-null  object \n",
            " 12  reviews.date         33332 non-null  object \n",
            " 13  reviews.dateAdded    1052 non-null   object \n",
            " 14  reviews.dateSeen     33332 non-null  object \n",
            " 15  reviews.doRecommend  21086 non-null  object \n",
            " 16  reviews.id           70 non-null     float64\n",
            " 17  reviews.numHelpful   21115 non-null  float64\n",
            " 18  reviews.rating       33332 non-null  int64  \n",
            " 19  reviews.sourceURLs   33332 non-null  object \n",
            " 20  reviews.text         33332 non-null  object \n",
            " 21  reviews.title        33319 non-null  object \n",
            " 22  reviews.username     33332 non-null  object \n",
            " 23  sourceURLs           33332 non-null  object \n",
            " 24  reviews.didPurchase  9 non-null      object \n",
            "dtypes: float64(2), int64(1), object(22)\n",
            "memory usage: 6.6+ MB\n"
          ]
        }
      ]
    },
    {
      "cell_type": "code",
      "metadata": {
        "id": "AW4ZWodAIhkO"
      },
      "source": [
        "data.drop('reviews.didPurchase', inplace=True, axis=1)"
      ],
      "execution_count": 10,
      "outputs": []
    },
    {
      "cell_type": "code",
      "metadata": {
        "id": "kONAJpYxKSyh"
      },
      "source": [
        "data.drop('keys', inplace=True, axis=1)"
      ],
      "execution_count": 11,
      "outputs": []
    },
    {
      "cell_type": "code",
      "metadata": {
        "id": "PwD4B97vLA6u"
      },
      "source": [
        "data.drop('reviews.dateAdded', inplace=True, axis=1)"
      ],
      "execution_count": 12,
      "outputs": []
    },
    {
      "cell_type": "code",
      "metadata": {
        "id": "Cw1dhI2pLb6e"
      },
      "source": [
        "data.drop('categories', inplace=True, axis=1)"
      ],
      "execution_count": 13,
      "outputs": []
    },
    {
      "cell_type": "code",
      "metadata": {
        "id": "ZuscrBOdLqFs"
      },
      "source": [
        "data.drop('sourceURLs', inplace=True, axis=1)"
      ],
      "execution_count": 14,
      "outputs": []
    },
    {
      "cell_type": "code",
      "metadata": {
        "id": "y6w7eToVL3Dx"
      },
      "source": [
        "data.drop('reviews.sourceURLs', inplace=True, axis=1)"
      ],
      "execution_count": 15,
      "outputs": []
    },
    {
      "cell_type": "code",
      "metadata": {
        "id": "uq00AWnxMERF"
      },
      "source": [
        "data.drop('reviews.id', inplace=True, axis=1)"
      ],
      "execution_count": 16,
      "outputs": []
    },
    {
      "cell_type": "code",
      "metadata": {
        "id": "EWYjzBFkMb_Y"
      },
      "source": [
        "data.drop('imageURLs', inplace=True, axis=1)"
      ],
      "execution_count": 17,
      "outputs": []
    },
    {
      "cell_type": "code",
      "metadata": {
        "id": "kwNE6t-hR4C6"
      },
      "source": [
        "data.rename(columns={'reviews.doRecommend': 'doRecommend', 'reviews.numHelpful': 'numHelpful'}, inplace=True)"
      ],
      "execution_count": 18,
      "outputs": []
    },
    {
      "cell_type": "code",
      "metadata": {
        "colab": {
          "base_uri": "https://localhost:8080/"
        },
        "id": "1YCgQnhCM0Om",
        "outputId": "15d01ca3-1ffb-4301-c12d-4e385f92220e"
      },
      "source": [
        "data.isnull().sum()"
      ],
      "execution_count": 19,
      "outputs": [
        {
          "output_type": "execute_result",
          "data": {
            "text/plain": [
              "id                        0\n",
              "dateAdded                 0\n",
              "dateUpdated               0\n",
              "name                      0\n",
              "asins                     0\n",
              "brand                     0\n",
              "primaryCategories         0\n",
              "manufacturer              0\n",
              "manufacturerNumber        0\n",
              "reviews.date              0\n",
              "reviews.dateSeen          0\n",
              "doRecommend           12246\n",
              "numHelpful            12217\n",
              "reviews.rating            0\n",
              "reviews.text              0\n",
              "reviews.title            13\n",
              "reviews.username          0\n",
              "dtype: int64"
            ]
          },
          "metadata": {},
          "execution_count": 19
        }
      ]
    },
    {
      "cell_type": "code",
      "metadata": {
        "colab": {
          "base_uri": "https://localhost:8080/"
        },
        "id": "9J3OXM9iclYi",
        "outputId": "9d178a59-3743-4bcd-d32b-e22634e91fdb"
      },
      "source": [
        "data.duplicated().sum()"
      ],
      "execution_count": 20,
      "outputs": [
        {
          "output_type": "execute_result",
          "data": {
            "text/plain": [
              "95"
            ]
          },
          "metadata": {},
          "execution_count": 20
        }
      ]
    },
    {
      "cell_type": "code",
      "metadata": {
        "id": "CzwifydicutL"
      },
      "source": [
        "data.drop_duplicates(inplace=True)"
      ],
      "execution_count": 21,
      "outputs": []
    },
    {
      "cell_type": "code",
      "metadata": {
        "id": "OBIYHgn9TNym"
      },
      "source": [
        "imputer = SimpleImputer(missing_values=np.nan, strategy='most_frequent')\n",
        "val = imputer.fit_transform(np.array(data['doRecommend']).reshape(-1, 1))\n",
        "\n",
        "val = pd.DataFrame(val)\n",
        "data['doRecommend'] = val[0]"
      ],
      "execution_count": 22,
      "outputs": []
    },
    {
      "cell_type": "code",
      "metadata": {
        "id": "vqGVDWbhfokr"
      },
      "source": [
        "imputer = SimpleImputer(missing_values=np.nan, strategy='most_frequent')\n",
        "val = imputer.fit_transform(np.array(data['numHelpful']).reshape(-1, 1))\n",
        "\n",
        "val = pd.DataFrame(val)\n",
        "data['numHelpful'] = val[0]"
      ],
      "execution_count": 23,
      "outputs": []
    },
    {
      "cell_type": "code",
      "metadata": {
        "id": "SJNk0FOAgLO-"
      },
      "source": [
        "data.dropna(inplace=True)"
      ],
      "execution_count": 24,
      "outputs": []
    },
    {
      "cell_type": "code",
      "metadata": {
        "colab": {
          "base_uri": "https://localhost:8080/"
        },
        "id": "sYCj6e_egLhO",
        "outputId": "c7590a04-eaea-4bfd-fbaf-dc8b16f4e5ae"
      },
      "source": [
        "data.isnull().sum()"
      ],
      "execution_count": 25,
      "outputs": [
        {
          "output_type": "execute_result",
          "data": {
            "text/plain": [
              "id                    0\n",
              "dateAdded             0\n",
              "dateUpdated           0\n",
              "name                  0\n",
              "asins                 0\n",
              "brand                 0\n",
              "primaryCategories     0\n",
              "manufacturer          0\n",
              "manufacturerNumber    0\n",
              "reviews.date          0\n",
              "reviews.dateSeen      0\n",
              "doRecommend           0\n",
              "numHelpful            0\n",
              "reviews.rating        0\n",
              "reviews.text          0\n",
              "reviews.title         0\n",
              "reviews.username      0\n",
              "dtype: int64"
            ]
          },
          "metadata": {},
          "execution_count": 25
        }
      ]
    },
    {
      "cell_type": "code",
      "metadata": {
        "colab": {
          "base_uri": "https://localhost:8080/"
        },
        "id": "53Svj0fwgL4s",
        "outputId": "705aba7d-8114-47fc-caa5-ff3ddc6caab8"
      },
      "source": [
        "data.shape"
      ],
      "execution_count": 26,
      "outputs": [
        {
          "output_type": "execute_result",
          "data": {
            "text/plain": [
              "(33224, 17)"
            ]
          },
          "metadata": {},
          "execution_count": 26
        }
      ]
    },
    {
      "cell_type": "code",
      "metadata": {
        "colab": {
          "base_uri": "https://localhost:8080/"
        },
        "id": "nmOWOz9hlg4z",
        "outputId": "018d0f04-5ebc-4ba6-a516-0c888c83ee9e"
      },
      "source": [
        "data['id'].value_counts()"
      ],
      "execution_count": 27,
      "outputs": [
        {
          "output_type": "execute_result",
          "data": {
            "text/plain": [
              "AVpgNzjwLJeJML43Kpxn    8343\n",
              "AVpe7xlELJeJML43ypLz    3728\n",
              "AVqkIhxunnc1JgDc3kg_    2443\n",
              "AVqVGWQDv8e3D1O-ldFr    2370\n",
              "AVph0EeEilAPnD_x9myq    1986\n",
              "                        ... \n",
              "AVpiZQ8r1cnluZ0-M3MN       1\n",
              "AVzoFq6UvKc47QAVe9NB       1\n",
              "AV2ElNnuvKc47QAVouhY       1\n",
              "AVpe5Q3sLJeJML43xt5X       1\n",
              "AVzvV7FHglJLPUi8GzhD       1\n",
              "Name: id, Length: 69, dtype: int64"
            ]
          },
          "metadata": {},
          "execution_count": 27
        }
      ]
    },
    {
      "cell_type": "code",
      "metadata": {
        "id": "-C1Zk_AMk8Yc"
      },
      "source": [
        "Label_Encoder = LabelEncoder()\n",
        "labels = Label_Encoder.fit_transform(data.id)\n",
        "data['id'] = labels"
      ],
      "execution_count": 28,
      "outputs": []
    },
    {
      "cell_type": "code",
      "metadata": {
        "colab": {
          "base_uri": "https://localhost:8080/"
        },
        "id": "FDX6cQJyl27X",
        "outputId": "06575cb0-dd98-4cd6-faab-54a2b9a52884"
      },
      "source": [
        "data['dateAdded'].value_counts()"
      ],
      "execution_count": 29,
      "outputs": [
        {
          "output_type": "execute_result",
          "data": {
            "text/plain": [
              "2015-10-30T08:59:32Z    8343\n",
              "2017-03-03T16:55:53Z    3799\n",
              "2015-12-03T01:23:41Z    3728\n",
              "2017-01-11T06:58:33Z    3662\n",
              "2017-03-06T14:59:43Z    3240\n",
              "2016-06-08T03:50:06Z    1405\n",
              "2016-04-10T22:00:34Z    1395\n",
              "2017-06-24T05:30:23Z    1013\n",
              "2017-03-06T14:59:25Z     846\n",
              "2017-01-04T03:51:17Z     826\n",
              "2018-02-02T02:30:22Z     642\n",
              "2018-05-02T14:01:51Z     590\n",
              "2016-03-31T21:08:24Z     587\n",
              "2017-03-06T14:59:44Z     576\n",
              "2017-05-20T01:34:04Z     526\n",
              "2017-03-03T16:56:06Z     427\n",
              "2017-03-03T16:56:05Z     340\n",
              "2017-03-06T14:59:52Z     209\n",
              "2016-08-01T02:44:31Z     195\n",
              "2018-04-13T02:03:15Z     192\n",
              "2017-06-22T02:09:02Z     160\n",
              "2017-03-06T14:59:42Z     112\n",
              "2017-06-24T05:30:24Z      82\n",
              "2015-12-09T08:57:06Z      61\n",
              "2015-12-02T05:30:10Z      57\n",
              "2017-11-03T23:17:55Z      26\n",
              "2015-05-11T12:33:03Z      25\n",
              "2015-01-22T12:25:23Z      21\n",
              "2017-06-28T15:41:38Z      13\n",
              "2015-12-01T05:29:38Z      12\n",
              "2015-11-06T02:16:04Z       9\n",
              "2015-10-30T10:58:06Z       9\n",
              "2018-11-24T02:10:04Z       7\n",
              "2018-06-13T19:37:34Z       7\n",
              "2018-01-30T04:58:34Z       6\n",
              "2015-11-29T21:24:13Z       6\n",
              "2015-05-11T12:24:05Z       6\n",
              "2015-11-16T05:49:31Z       6\n",
              "2014-08-28T19:31:47Z       6\n",
              "2017-01-30T18:40:57Z       5\n",
              "2017-06-28T15:41:40Z       5\n",
              "2015-09-10T21:58:58Z       5\n",
              "2016-07-21T02:17:37Z       5\n",
              "2014-10-28T11:14:38Z       4\n",
              "2015-10-17T00:32:56Z       4\n",
              "2018-05-02T14:06:19Z       3\n",
              "2016-07-01T15:03:39Z       3\n",
              "2017-11-07T16:59:25Z       3\n",
              "2016-04-08T18:16:28Z       2\n",
              "2018-11-24T02:11:25Z       2\n",
              "2015-12-02T03:14:48Z       2\n",
              "2018-05-02T14:06:20Z       2\n",
              "2018-09-21T19:44:16Z       2\n",
              "2017-07-27T15:05:33Z       1\n",
              "2015-12-14T23:13:27Z       1\n",
              "2017-06-28T15:35:20Z       1\n",
              "2015-10-16T18:48:32Z       1\n",
              "2017-06-27T05:46:59Z       1\n",
              "Name: dateAdded, dtype: int64"
            ]
          },
          "metadata": {},
          "execution_count": 29
        }
      ]
    },
    {
      "cell_type": "code",
      "metadata": {
        "colab": {
          "base_uri": "https://localhost:8080/"
        },
        "id": "JsrzVFTAmPBh",
        "outputId": "9fba74d9-7118-4b21-d77f-1d691deed15e"
      },
      "source": [
        "data['dateUpdated'].value_counts()"
      ],
      "execution_count": 30,
      "outputs": [
        {
          "output_type": "execute_result",
          "data": {
            "text/plain": [
              "2019-04-25T09:08:16Z    8343\n",
              "2019-03-09T07:13:43Z    4301\n",
              "2019-04-24T02:17:42Z    3728\n",
              "2019-02-23T02:49:38Z    2443\n",
              "2019-02-25T02:23:15Z    1569\n",
              "                        ... \n",
              "2019-03-09T07:21:48Z       1\n",
              "2019-03-26T16:55:27Z       1\n",
              "2019-02-25T02:20:02Z       1\n",
              "2019-02-25T02:34:23Z       1\n",
              "2019-04-25T08:39:23Z       1\n",
              "Name: dateUpdated, Length: 69, dtype: int64"
            ]
          },
          "metadata": {},
          "execution_count": 30
        }
      ]
    },
    {
      "cell_type": "code",
      "metadata": {
        "colab": {
          "base_uri": "https://localhost:8080/"
        },
        "id": "Yx4Bv54DmoQG",
        "outputId": "d20fe5ed-4830-4bff-fd80-c5d6ac8607eb"
      },
      "source": [
        "data.isnull().sum()"
      ],
      "execution_count": 31,
      "outputs": [
        {
          "output_type": "execute_result",
          "data": {
            "text/plain": [
              "id                    0\n",
              "dateAdded             0\n",
              "dateUpdated           0\n",
              "name                  0\n",
              "asins                 0\n",
              "brand                 0\n",
              "primaryCategories     0\n",
              "manufacturer          0\n",
              "manufacturerNumber    0\n",
              "reviews.date          0\n",
              "reviews.dateSeen      0\n",
              "doRecommend           0\n",
              "numHelpful            0\n",
              "reviews.rating        0\n",
              "reviews.text          0\n",
              "reviews.title         0\n",
              "reviews.username      0\n",
              "dtype: int64"
            ]
          },
          "metadata": {},
          "execution_count": 31
        }
      ]
    },
    {
      "cell_type": "code",
      "metadata": {
        "colab": {
          "base_uri": "https://localhost:8080/"
        },
        "id": "CgqcobU-oMD1",
        "outputId": "930bbc22-fccf-4c0a-ffd2-5a77e895a610"
      },
      "source": [
        "data['name'].value_counts()"
      ],
      "execution_count": 32,
      "outputs": [
        {
          "output_type": "execute_result",
          "data": {
            "text/plain": [
              "AmazonBasics AAA Performance Alkaline Batteries (36 Count)                               8343\n",
              "AmazonBasics AA Performance Alkaline Batteries (48 Count) - Packaging May Vary           3728\n",
              "Fire HD 8 Tablet with Alexa, 8 HD Display, 16 GB, Tangerine - with Special Offers        2443\n",
              "All-New Fire HD 8 Tablet, 8 HD Display, Wi-Fi, 16 GB - Includes Special Offers, Black    2370\n",
              "Fire Kids Edition Tablet, 7 Display, Wi-Fi, 16 GB, Blue Kid-Proof Case                   1986\n",
              "                                                                                         ... \n",
              "Echo Dot (Previous generation)                                                              1\n",
              "AmazonBasics Single-Door Folding Metal Dog Crate - Large (42x28x30 Inches)                  1\n",
              "AmazonBasics Silicone Hot Handle Cover/Holder - Red                                         1\n",
              "Two Door Top Load Pet Kennel Travel Crate Dog Cat Pet Cage Carrier Box Tray 23\"             1\n",
              "AmazonBasics Nespresso Pod Storage Drawer - 50 Capsule Capacity                             1\n",
              "Name: name, Length: 79, dtype: int64"
            ]
          },
          "metadata": {},
          "execution_count": 32
        }
      ]
    },
    {
      "cell_type": "code",
      "metadata": {
        "id": "erUvyUGCoUCa"
      },
      "source": [
        "labels = Label_Encoder.fit_transform(data.name)\n",
        "data['name'] = labels"
      ],
      "execution_count": 33,
      "outputs": []
    },
    {
      "cell_type": "code",
      "metadata": {
        "colab": {
          "base_uri": "https://localhost:8080/"
        },
        "id": "gj4vnOgRobuk",
        "outputId": "4058b46c-4a0d-4f04-e955-94d3e973bd60"
      },
      "source": [
        "data['asins'].value_counts()"
      ],
      "execution_count": 34,
      "outputs": [
        {
          "output_type": "execute_result",
          "data": {
            "text/plain": [
              "B00QWO9P0O,B00LH3DMUO               8343\n",
              "B00QWO9P0O,B01IB83NZG,B00MNV8E0C    3728\n",
              "B018T075DC                          2443\n",
              "B018SZT3BK,B01AHB9CN2               2370\n",
              "B018Y22C2Y                          1986\n",
              "                                    ... \n",
              "B00VKTZFB4                             1\n",
              "B00QAVO43C                             1\n",
              "B010RLCH2U                             1\n",
              "B00OP6SMCI                             1\n",
              "B01L7XWEQQ                             1\n",
              "Name: asins, Length: 70, dtype: int64"
            ]
          },
          "metadata": {},
          "execution_count": 34
        }
      ]
    },
    {
      "cell_type": "code",
      "metadata": {
        "id": "8F_2WS9Tohiz"
      },
      "source": [
        "labels = Label_Encoder.fit_transform(data.asins)\n",
        "data['asins'] = labels"
      ],
      "execution_count": 35,
      "outputs": []
    },
    {
      "cell_type": "code",
      "metadata": {
        "colab": {
          "base_uri": "https://localhost:8080/"
        },
        "id": "eKMD1BLPonPE",
        "outputId": "0ab9eb6c-143a-4a70-ac83-29965babbc36"
      },
      "source": [
        "data['brand'].value_counts()"
      ],
      "execution_count": 36,
      "outputs": [
        {
          "output_type": "execute_result",
          "data": {
            "text/plain": [
              "Amazon          21045\n",
              "Amazonbasics    12169\n",
              "AmazonBasics       10\n",
              "Name: brand, dtype: int64"
            ]
          },
          "metadata": {},
          "execution_count": 36
        }
      ]
    },
    {
      "cell_type": "code",
      "metadata": {
        "colab": {
          "base_uri": "https://localhost:8080/",
          "height": 872
        },
        "id": "8J_9ZIOvpmpH",
        "outputId": "96053859-ee53-4522-d1ec-6b9d7f71ece2"
      },
      "source": [
        "data.loc[data['brand'] == 'AmazonBasics']"
      ],
      "execution_count": 37,
      "outputs": [
        {
          "output_type": "execute_result",
          "data": {
            "text/html": [
              "<div>\n",
              "<style scoped>\n",
              "    .dataframe tbody tr th:only-of-type {\n",
              "        vertical-align: middle;\n",
              "    }\n",
              "\n",
              "    .dataframe tbody tr th {\n",
              "        vertical-align: top;\n",
              "    }\n",
              "\n",
              "    .dataframe thead th {\n",
              "        text-align: right;\n",
              "    }\n",
              "</style>\n",
              "<table border=\"1\" class=\"dataframe\">\n",
              "  <thead>\n",
              "    <tr style=\"text-align: right;\">\n",
              "      <th></th>\n",
              "      <th>id</th>\n",
              "      <th>dateAdded</th>\n",
              "      <th>dateUpdated</th>\n",
              "      <th>name</th>\n",
              "      <th>asins</th>\n",
              "      <th>brand</th>\n",
              "      <th>primaryCategories</th>\n",
              "      <th>manufacturer</th>\n",
              "      <th>manufacturerNumber</th>\n",
              "      <th>reviews.date</th>\n",
              "      <th>reviews.dateSeen</th>\n",
              "      <th>doRecommend</th>\n",
              "      <th>numHelpful</th>\n",
              "      <th>reviews.rating</th>\n",
              "      <th>reviews.text</th>\n",
              "      <th>reviews.title</th>\n",
              "      <th>reviews.username</th>\n",
              "    </tr>\n",
              "  </thead>\n",
              "  <tbody>\n",
              "    <tr>\n",
              "      <th>13376</th>\n",
              "      <td>31</td>\n",
              "      <td>2015-12-14T23:13:27Z</td>\n",
              "      <td>2019-03-09T07:21:48Z</td>\n",
              "      <td>44</td>\n",
              "      <td>31</td>\n",
              "      <td>AmazonBasics</td>\n",
              "      <td>Home &amp; Garden</td>\n",
              "      <td>AmazonBasics</td>\n",
              "      <td>DHCD002</td>\n",
              "      <td>2017-12-21T00:00:00.000Z</td>\n",
              "      <td>2018-06-01T00:00:00Z</td>\n",
              "      <td>True</td>\n",
              "      <td>0.0</td>\n",
              "      <td>5</td>\n",
              "      <td>I work for Nespresso so I have a lot of capsul...</td>\n",
              "      <td>Nespresso capsule drawer</td>\n",
              "      <td>sheilajw1</td>\n",
              "    </tr>\n",
              "    <tr>\n",
              "      <th>19390</th>\n",
              "      <td>4</td>\n",
              "      <td>2015-10-16T18:48:32Z</td>\n",
              "      <td>2019-02-25T02:34:23Z</td>\n",
              "      <td>47</td>\n",
              "      <td>16</td>\n",
              "      <td>AmazonBasics</td>\n",
              "      <td>Animals &amp; Pet Supplies</td>\n",
              "      <td>AmazonBasics</td>\n",
              "      <td>9001-42A</td>\n",
              "      <td>2017-07-03T00:00:00.000Z</td>\n",
              "      <td>2017-09-08T00:00:00Z,2017-09-15T00:00:00Z,2017...</td>\n",
              "      <td>True</td>\n",
              "      <td>0.0</td>\n",
              "      <td>5</td>\n",
              "      <td>It's great, study enough to hold the beast.</td>\n",
              "      <td>Nice cage</td>\n",
              "      <td>mdem8573</td>\n",
              "    </tr>\n",
              "    <tr>\n",
              "      <th>19395</th>\n",
              "      <td>12</td>\n",
              "      <td>2015-12-02T03:14:48Z</td>\n",
              "      <td>2019-02-25T02:25:00Z</td>\n",
              "      <td>42</td>\n",
              "      <td>15</td>\n",
              "      <td>AmazonBasics</td>\n",
              "      <td>Animals &amp; Pet Supplies</td>\n",
              "      <td>AmazonBasics</td>\n",
              "      <td>9001-36B</td>\n",
              "      <td>2017-09-04T00:00:00.000Z</td>\n",
              "      <td>2017-11-03T00:00:00Z</td>\n",
              "      <td>True</td>\n",
              "      <td>0.0</td>\n",
              "      <td>4</td>\n",
              "      <td>I am very pleased with the dog crate. Very stu...</td>\n",
              "      <td>Better than expected.</td>\n",
              "      <td>ansl-alex</td>\n",
              "    </tr>\n",
              "    <tr>\n",
              "      <th>19396</th>\n",
              "      <td>12</td>\n",
              "      <td>2015-12-02T03:14:48Z</td>\n",
              "      <td>2019-02-25T02:25:00Z</td>\n",
              "      <td>42</td>\n",
              "      <td>15</td>\n",
              "      <td>AmazonBasics</td>\n",
              "      <td>Animals &amp; Pet Supplies</td>\n",
              "      <td>AmazonBasics</td>\n",
              "      <td>9001-36B</td>\n",
              "      <td>2017-03-21T00:00:00.000Z</td>\n",
              "      <td>2017-11-03T00:00:00Z</td>\n",
              "      <td>True</td>\n",
              "      <td>0.0</td>\n",
              "      <td>3</td>\n",
              "      <td>The price of the item was very good compared t...</td>\n",
              "      <td>Great price</td>\n",
              "      <td>jeff_dias1</td>\n",
              "    </tr>\n",
              "    <tr>\n",
              "      <th>25878</th>\n",
              "      <td>30</td>\n",
              "      <td>2015-11-29T21:24:13Z</td>\n",
              "      <td>2019-02-24T21:41:04Z</td>\n",
              "      <td>41</td>\n",
              "      <td>2</td>\n",
              "      <td>AmazonBasics</td>\n",
              "      <td>Electronics</td>\n",
              "      <td>AmazonBasics</td>\n",
              "      <td>KT-1081A</td>\n",
              "      <td>2013-02-25T00:00:00Z</td>\n",
              "      <td>2017-01-28T00:00:00Z</td>\n",
              "      <td>True</td>\n",
              "      <td>0.0</td>\n",
              "      <td>4</td>\n",
              "      <td>Like a lot of reviewers here, I struggled to f...</td>\n",
              "      <td>An excellent keyboard -- with one significant ...</td>\n",
              "      <td>Rob Blackwell</td>\n",
              "    </tr>\n",
              "    <tr>\n",
              "      <th>25879</th>\n",
              "      <td>30</td>\n",
              "      <td>2015-11-29T21:24:13Z</td>\n",
              "      <td>2019-02-24T21:41:04Z</td>\n",
              "      <td>41</td>\n",
              "      <td>2</td>\n",
              "      <td>AmazonBasics</td>\n",
              "      <td>Electronics</td>\n",
              "      <td>AmazonBasics</td>\n",
              "      <td>KT-1081A</td>\n",
              "      <td>2012-05-22T00:00:00Z</td>\n",
              "      <td>2016-03-21T00:00:00Z</td>\n",
              "      <td>True</td>\n",
              "      <td>0.0</td>\n",
              "      <td>4</td>\n",
              "      <td>Using this with my Samsung Galaxy Note. Overal...</td>\n",
              "      <td>Good keyboard, but where's the case Here's a s...</td>\n",
              "      <td>LeoB</td>\n",
              "    </tr>\n",
              "    <tr>\n",
              "      <th>25880</th>\n",
              "      <td>30</td>\n",
              "      <td>2015-11-29T21:24:13Z</td>\n",
              "      <td>2019-02-24T21:41:04Z</td>\n",
              "      <td>41</td>\n",
              "      <td>2</td>\n",
              "      <td>AmazonBasics</td>\n",
              "      <td>Electronics</td>\n",
              "      <td>AmazonBasics</td>\n",
              "      <td>KT-1081A</td>\n",
              "      <td>2011-12-05T00:00:00Z</td>\n",
              "      <td>2017-01-28T00:00:00Z</td>\n",
              "      <td>True</td>\n",
              "      <td>0.0</td>\n",
              "      <td>5</td>\n",
              "      <td>It's a bit smaller than Apple's wireless keybo...</td>\n",
              "      <td>Great keyboard</td>\n",
              "      <td>debugy2k</td>\n",
              "    </tr>\n",
              "    <tr>\n",
              "      <th>25881</th>\n",
              "      <td>30</td>\n",
              "      <td>2015-11-29T21:24:13Z</td>\n",
              "      <td>2019-02-24T21:41:04Z</td>\n",
              "      <td>41</td>\n",
              "      <td>2</td>\n",
              "      <td>AmazonBasics</td>\n",
              "      <td>Electronics</td>\n",
              "      <td>AmazonBasics</td>\n",
              "      <td>KT-1081A</td>\n",
              "      <td>2012-11-28T00:00:00Z</td>\n",
              "      <td>2015-12-03T00:00:00Z</td>\n",
              "      <td>True</td>\n",
              "      <td>0.0</td>\n",
              "      <td>4</td>\n",
              "      <td>I'm typing this review on my Kindle Fire HD 8....</td>\n",
              "      <td>I love this keyboard</td>\n",
              "      <td>Dave Edmiston</td>\n",
              "    </tr>\n",
              "    <tr>\n",
              "      <th>25882</th>\n",
              "      <td>30</td>\n",
              "      <td>2015-11-29T21:24:13Z</td>\n",
              "      <td>2019-02-24T21:41:04Z</td>\n",
              "      <td>41</td>\n",
              "      <td>2</td>\n",
              "      <td>AmazonBasics</td>\n",
              "      <td>Electronics</td>\n",
              "      <td>AmazonBasics</td>\n",
              "      <td>KT-1081A</td>\n",
              "      <td>2012-10-30T00:00:00Z</td>\n",
              "      <td>2016-03-21T00:00:00Z</td>\n",
              "      <td>True</td>\n",
              "      <td>0.0</td>\n",
              "      <td>5</td>\n",
              "      <td>Read more</td>\n",
              "      <td>previous problems with Fire HD 7 now fixed, gr...</td>\n",
              "      <td>Donald M. Shepherd</td>\n",
              "    </tr>\n",
              "    <tr>\n",
              "      <th>25883</th>\n",
              "      <td>30</td>\n",
              "      <td>2015-11-29T21:24:13Z</td>\n",
              "      <td>2019-02-24T21:41:04Z</td>\n",
              "      <td>41</td>\n",
              "      <td>2</td>\n",
              "      <td>AmazonBasics</td>\n",
              "      <td>Electronics</td>\n",
              "      <td>AmazonBasics</td>\n",
              "      <td>KT-1081A</td>\n",
              "      <td>2012-11-10T00:00:00Z</td>\n",
              "      <td>2015-12-03T00:00:00Z</td>\n",
              "      <td>True</td>\n",
              "      <td>1.0</td>\n",
              "      <td>4</td>\n",
              "      <td>I waited to get this keyboard until I did a li...</td>\n",
              "      <td>Very nice Bluetooth keyboard for the Kindle Fi...</td>\n",
              "      <td>Brian Hartman</td>\n",
              "    </tr>\n",
              "  </tbody>\n",
              "</table>\n",
              "</div>"
            ],
            "text/plain": [
              "       id  ...    reviews.username\n",
              "13376  31  ...           sheilajw1\n",
              "19390   4  ...            mdem8573\n",
              "19395  12  ...           ansl-alex\n",
              "19396  12  ...          jeff_dias1\n",
              "25878  30  ...       Rob Blackwell\n",
              "25879  30  ...                LeoB\n",
              "25880  30  ...            debugy2k\n",
              "25881  30  ...       Dave Edmiston\n",
              "25882  30  ...  Donald M. Shepherd\n",
              "25883  30  ...       Brian Hartman\n",
              "\n",
              "[10 rows x 17 columns]"
            ]
          },
          "metadata": {},
          "execution_count": 37
        }
      ]
    },
    {
      "cell_type": "code",
      "metadata": {
        "id": "t3OAJLQizewX"
      },
      "source": [
        "data['brand']=data['brand'].replace({'AmazonBasics':'Amazonbasics'})"
      ],
      "execution_count": 38,
      "outputs": []
    },
    {
      "cell_type": "code",
      "metadata": {
        "id": "dyMci40BpnD6"
      },
      "source": [
        "labels = Label_Encoder.fit_transform(data.brand)\n",
        "data['brand'] = labels"
      ],
      "execution_count": 39,
      "outputs": []
    },
    {
      "cell_type": "code",
      "metadata": {
        "colab": {
          "base_uri": "https://localhost:8080/"
        },
        "id": "Zalvgub2o6Dd",
        "outputId": "1c7b99df-5ed0-4d10-e9c9-6dbc7893e173"
      },
      "source": [
        "data['primaryCategories'].value_counts()"
      ],
      "execution_count": 40,
      "outputs": [
        {
          "output_type": "execute_result",
          "data": {
            "text/plain": [
              "Electronics                    17204\n",
              "Health & Beauty                12071\n",
              "Toys & Games,Electronics        1676\n",
              "Electronics,Hardware            1423\n",
              "Office Supplies,Electronics      622\n",
              "Electronics,Media                209\n",
              "Office Supplies                    9\n",
              "Animals & Pet Supplies             6\n",
              "Electronics,Furniture              2\n",
              "Home & Garden                      2\n",
              "Name: primaryCategories, dtype: int64"
            ]
          },
          "metadata": {},
          "execution_count": 40
        }
      ]
    },
    {
      "cell_type": "code",
      "metadata": {
        "id": "j1qVtDCxpAbj"
      },
      "source": [
        "labels = Label_Encoder.fit_transform(data.primaryCategories)\n",
        "data['primaryCategories'] = labels"
      ],
      "execution_count": 41,
      "outputs": []
    },
    {
      "cell_type": "code",
      "metadata": {
        "colab": {
          "base_uri": "https://localhost:8080/"
        },
        "id": "J0H0FogYpIAy",
        "outputId": "6a94b1a9-3085-4323-c1c2-97bc4516031f"
      },
      "source": [
        "data['manufacturer'].value_counts()"
      ],
      "execution_count": 42,
      "outputs": [
        {
          "output_type": "execute_result",
          "data": {
            "text/plain": [
              "Amazon                     21022\n",
              "AmazonBasics               12179\n",
              "Amazon Digital Services       18\n",
              "Amazon.com                     5\n",
              "Name: manufacturer, dtype: int64"
            ]
          },
          "metadata": {},
          "execution_count": 42
        }
      ]
    },
    {
      "cell_type": "code",
      "metadata": {
        "id": "PsSdjvlrpXIm"
      },
      "source": [
        "labels = Label_Encoder.fit_transform(data.manufacturer)\n",
        "data['manufacturer'] = labels"
      ],
      "execution_count": 43,
      "outputs": []
    },
    {
      "cell_type": "code",
      "metadata": {
        "colab": {
          "base_uri": "https://localhost:8080/"
        },
        "id": "wjCFF33Ppu1w",
        "outputId": "dc2123e8-a91f-4c14-c7ec-1d66bf17ebe0"
      },
      "source": [
        "data['manufacturerNumber'].value_counts()"
      ],
      "execution_count": 44,
      "outputs": [
        {
          "output_type": "execute_result",
          "data": {
            "text/plain": [
              "HL-002619           8343\n",
              "LR6G0748FFPAB-US    3728\n",
              "53-004484           3167\n",
              "53-004485           2443\n",
              "53-004755           1986\n",
              "                    ... \n",
              "9001-42A               1\n",
              "DHCD002                1\n",
              "AOKE-16082501          1\n",
              "6009-S                 1\n",
              "53-003736              1\n",
              "Name: manufacturerNumber, Length: 74, dtype: int64"
            ]
          },
          "metadata": {},
          "execution_count": 44
        }
      ]
    },
    {
      "cell_type": "code",
      "metadata": {
        "id": "5oLtnHzAp6d7"
      },
      "source": [
        "labels = Label_Encoder.fit_transform(data.manufacturerNumber)\n",
        "data['manufacturerNumber'] = labels"
      ],
      "execution_count": 45,
      "outputs": []
    },
    {
      "cell_type": "code",
      "metadata": {
        "colab": {
          "base_uri": "https://localhost:8080/"
        },
        "id": "-5lxup0_AdUA",
        "outputId": "4590fa57-97a1-45a2-c9df-709c7a555ef7"
      },
      "source": [
        "data['doRecommend'].value_counts()"
      ],
      "execution_count": 46,
      "outputs": [
        {
          "output_type": "execute_result",
          "data": {
            "text/plain": [
              "True     32275\n",
              "False      949\n",
              "Name: doRecommend, dtype: int64"
            ]
          },
          "metadata": {},
          "execution_count": 46
        }
      ]
    },
    {
      "cell_type": "code",
      "metadata": {
        "id": "qPYkvTUPAihT"
      },
      "source": [
        "labels = Label_Encoder.fit_transform(data.doRecommend)\n",
        "data['doRecommend'] = labels"
      ],
      "execution_count": 47,
      "outputs": []
    },
    {
      "cell_type": "code",
      "metadata": {
        "id": "Aw0w2v9iqCfK"
      },
      "source": [
        "data.rename(columns={'reviews.date': 'reviews_date', 'reviews.dateSeen': 'reviews_dateSeen'}, inplace=True)"
      ],
      "execution_count": 48,
      "outputs": []
    },
    {
      "cell_type": "code",
      "metadata": {
        "colab": {
          "base_uri": "https://localhost:8080/"
        },
        "id": "Q3UtCcTUqpNq",
        "outputId": "2b70209d-47e8-4929-988e-bc0d31893a5e"
      },
      "source": [
        "data['reviews_date'].value_counts()"
      ],
      "execution_count": 49,
      "outputs": [
        {
          "output_type": "execute_result",
          "data": {
            "text/plain": [
              "2017-01-23T00:00:00.000Z    656\n",
              "2017-01-06T00:00:00.000Z    630\n",
              "2017-01-18T00:00:00.000Z    543\n",
              "2017-01-16T00:00:00.000Z    535\n",
              "2016-12-23T00:00:00.000Z    449\n",
              "                           ... \n",
              "2014-08-11T00:00:00.000Z      1\n",
              "2017-01-01T00:04:32.000Z      1\n",
              "2014-11-21T00:00:00.000Z      1\n",
              "2015-09-10T00:00:00Z          1\n",
              "2017-09-01T15:08:55.000Z      1\n",
              "Name: reviews_date, Length: 1344, dtype: int64"
            ]
          },
          "metadata": {},
          "execution_count": 49
        }
      ]
    },
    {
      "cell_type": "code",
      "metadata": {
        "colab": {
          "base_uri": "https://localhost:8080/"
        },
        "id": "tiOA_etRrjND",
        "outputId": "8931d57c-74ad-4925-b298-da257a181395"
      },
      "source": [
        "data['reviews_dateSeen'].value_counts()"
      ],
      "execution_count": 50,
      "outputs": [
        {
          "output_type": "execute_result",
          "data": {
            "text/plain": [
              "2017-08-28T00:00:00Z                                                                                                                                                                            8343\n",
              "2017-06-28T00:00:00Z                                                                                                                                                                            3728\n",
              "2017-04-30T00:00:00Z,2017-06-07T00:00:00Z                                                                                                                                                       2947\n",
              "2017-04-30T00:00:00Z,2017-06-07T00:00:00Z,2017-04-26T00:00:00Z,2017-08-06T00:00:00Z,2017-05-10T00:00:00Z,2017-08-09T00:00:00Z                                                                   1650\n",
              "2017-04-26T00:00:00Z,2017-06-04T00:00:00Z,2017-06-03T00:00:00Z                                                                                                                                  1492\n",
              "                                                                                                                                                                                                ... \n",
              "2017-09-28T00:00:00Z,2017-09-08T00:00:00Z,2017-09-12T00:00:00Z,2017-08-31T00:00:00Z,2017-08-15T00:00:00Z,2017-08-01T00:00:00Z,2017-07-09T00:00:00Z,2017-07-07T00:00:00Z                            1\n",
              "2017-09-08T00:00:00Z,2017-09-15T00:00:00Z,2017-09-14T00:00:00Z                                                                                                                                     1\n",
              "2018-05-27T00:00:00Z,2017-07-07T00:00:00Z,2017-06-04T00:00:00Z,2017-05-09T00:00:00Z,2017-08-09T00:00:00Z,2017-08-02T00:00:00Z,2017-08-19T00:00:00Z,2017-08-27T00:00:00Z,2017-08-31T00:00:00Z       1\n",
              "2017-03-23T00:00:00Z,2017-03-09T00:00:00Z,2017-04-30T00:00:00Z,2017-06-07T00:00:00Z                                                                                                                1\n",
              "2016-06-15T00:00:00Z                                                                                                                                                                               1\n",
              "Name: reviews_dateSeen, Length: 791, dtype: int64"
            ]
          },
          "metadata": {},
          "execution_count": 50
        }
      ]
    },
    {
      "cell_type": "code",
      "metadata": {
        "colab": {
          "base_uri": "https://localhost:8080/"
        },
        "id": "ZQouh-ITxY_K",
        "outputId": "86f476b5-62de-4765-a235-b4fa7d6d6c49"
      },
      "source": [
        "data.info()"
      ],
      "execution_count": 51,
      "outputs": [
        {
          "output_type": "stream",
          "name": "stdout",
          "text": [
            "<class 'pandas.core.frame.DataFrame'>\n",
            "Int64Index: 33224 entries, 0 to 28331\n",
            "Data columns (total 17 columns):\n",
            " #   Column              Non-Null Count  Dtype  \n",
            "---  ------              --------------  -----  \n",
            " 0   id                  33224 non-null  int64  \n",
            " 1   dateAdded           33224 non-null  object \n",
            " 2   dateUpdated         33224 non-null  object \n",
            " 3   name                33224 non-null  int64  \n",
            " 4   asins               33224 non-null  int64  \n",
            " 5   brand               33224 non-null  int64  \n",
            " 6   primaryCategories   33224 non-null  int64  \n",
            " 7   manufacturer        33224 non-null  int64  \n",
            " 8   manufacturerNumber  33224 non-null  int64  \n",
            " 9   reviews_date        33224 non-null  object \n",
            " 10  reviews_dateSeen    33224 non-null  object \n",
            " 11  doRecommend         33224 non-null  int64  \n",
            " 12  numHelpful          33224 non-null  float64\n",
            " 13  reviews.rating      33224 non-null  int64  \n",
            " 14  reviews.text        33224 non-null  object \n",
            " 15  reviews.title       33224 non-null  object \n",
            " 16  reviews.username    33224 non-null  object \n",
            "dtypes: float64(1), int64(9), object(7)\n",
            "memory usage: 4.6+ MB\n"
          ]
        }
      ]
    },
    {
      "cell_type": "code",
      "metadata": {
        "colab": {
          "base_uri": "https://localhost:8080/",
          "height": 411
        },
        "id": "HKOQlD4K41tr",
        "outputId": "b6a86cea-de5c-40fe-d0e0-3e2bcc56827f"
      },
      "source": [
        "data.sample(5)"
      ],
      "execution_count": 52,
      "outputs": [
        {
          "output_type": "execute_result",
          "data": {
            "text/html": [
              "<div>\n",
              "<style scoped>\n",
              "    .dataframe tbody tr th:only-of-type {\n",
              "        vertical-align: middle;\n",
              "    }\n",
              "\n",
              "    .dataframe tbody tr th {\n",
              "        vertical-align: top;\n",
              "    }\n",
              "\n",
              "    .dataframe thead th {\n",
              "        text-align: right;\n",
              "    }\n",
              "</style>\n",
              "<table border=\"1\" class=\"dataframe\">\n",
              "  <thead>\n",
              "    <tr style=\"text-align: right;\">\n",
              "      <th></th>\n",
              "      <th>id</th>\n",
              "      <th>dateAdded</th>\n",
              "      <th>dateUpdated</th>\n",
              "      <th>name</th>\n",
              "      <th>asins</th>\n",
              "      <th>brand</th>\n",
              "      <th>primaryCategories</th>\n",
              "      <th>manufacturer</th>\n",
              "      <th>manufacturerNumber</th>\n",
              "      <th>reviews_date</th>\n",
              "      <th>reviews_dateSeen</th>\n",
              "      <th>doRecommend</th>\n",
              "      <th>numHelpful</th>\n",
              "      <th>reviews.rating</th>\n",
              "      <th>reviews.text</th>\n",
              "      <th>reviews.title</th>\n",
              "      <th>reviews.username</th>\n",
              "    </tr>\n",
              "  </thead>\n",
              "  <tbody>\n",
              "    <tr>\n",
              "      <th>5776</th>\n",
              "      <td>22</td>\n",
              "      <td>2015-10-30T08:59:32Z</td>\n",
              "      <td>2019-04-25T09:08:16Z</td>\n",
              "      <td>39</td>\n",
              "      <td>18</td>\n",
              "      <td>1</td>\n",
              "      <td>5</td>\n",
              "      <td>3</td>\n",
              "      <td>64</td>\n",
              "      <td>2017-03-12T00:00:00.000Z</td>\n",
              "      <td>2017-08-28T00:00:00Z</td>\n",
              "      <td>1</td>\n",
              "      <td>0.0</td>\n",
              "      <td>5</td>\n",
              "      <td>Long lasting great product</td>\n",
              "      <td>GREAT!</td>\n",
              "      <td>ByMaynor A.</td>\n",
              "    </tr>\n",
              "    <tr>\n",
              "      <th>3515</th>\n",
              "      <td>45</td>\n",
              "      <td>2017-03-06T14:59:43Z</td>\n",
              "      <td>2018-02-13T21:53:06Z</td>\n",
              "      <td>10</td>\n",
              "      <td>45</td>\n",
              "      <td>0</td>\n",
              "      <td>1</td>\n",
              "      <td>0</td>\n",
              "      <td>15</td>\n",
              "      <td>2017-01-21T00:00:00.000Z</td>\n",
              "      <td>2017-04-30T00:45:00.000Z,2017-06-07T09:04:00.000Z</td>\n",
              "      <td>1</td>\n",
              "      <td>0.0</td>\n",
              "      <td>4</td>\n",
              "      <td>It's alright to browse the Internet and watch ...</td>\n",
              "      <td>It's alright</td>\n",
              "      <td>JMH28</td>\n",
              "    </tr>\n",
              "    <tr>\n",
              "      <th>22529</th>\n",
              "      <td>33</td>\n",
              "      <td>2016-06-08T03:50:06Z</td>\n",
              "      <td>2019-02-25T02:05:58Z</td>\n",
              "      <td>65</td>\n",
              "      <td>38</td>\n",
              "      <td>0</td>\n",
              "      <td>1</td>\n",
              "      <td>0</td>\n",
              "      <td>21</td>\n",
              "      <td>2017-01-16T00:00:00.000Z</td>\n",
              "      <td>2017-08-27T00:00:00Z,2017-08-09T00:00:00Z,2017...</td>\n",
              "      <td>1</td>\n",
              "      <td>0.0</td>\n",
              "      <td>4</td>\n",
              "      <td>We are used to iPads in our house. This has ta...</td>\n",
              "      <td>Nice product for the price</td>\n",
              "      <td>Momofthree</td>\n",
              "    </tr>\n",
              "    <tr>\n",
              "      <th>21273</th>\n",
              "      <td>41</td>\n",
              "      <td>2017-03-06T14:59:25Z</td>\n",
              "      <td>2019-02-25T02:20:29Z</td>\n",
              "      <td>66</td>\n",
              "      <td>37</td>\n",
              "      <td>0</td>\n",
              "      <td>1</td>\n",
              "      <td>0</td>\n",
              "      <td>22</td>\n",
              "      <td>2016-10-07T00:00:00.000Z</td>\n",
              "      <td>2017-04-30T00:00:00Z,2017-06-07T00:00:00Z</td>\n",
              "      <td>1</td>\n",
              "      <td>0.0</td>\n",
              "      <td>5</td>\n",
              "      <td>Good inexpensive device. Still in touch with m...</td>\n",
              "      <td>Great Gift</td>\n",
              "      <td>WifiG</td>\n",
              "    </tr>\n",
              "    <tr>\n",
              "      <th>1686</th>\n",
              "      <td>22</td>\n",
              "      <td>2015-10-30T08:59:32Z</td>\n",
              "      <td>2019-04-25T09:08:16Z</td>\n",
              "      <td>39</td>\n",
              "      <td>18</td>\n",
              "      <td>1</td>\n",
              "      <td>5</td>\n",
              "      <td>3</td>\n",
              "      <td>64</td>\n",
              "      <td>2017-01-17T00:00:00.000Z</td>\n",
              "      <td>2017-08-28T00:00:00Z</td>\n",
              "      <td>1</td>\n",
              "      <td>0.0</td>\n",
              "      <td>5</td>\n",
              "      <td>Fast delivery. Will order again</td>\n",
              "      <td>Five Stars</td>\n",
              "      <td>ByAngie</td>\n",
              "    </tr>\n",
              "  </tbody>\n",
              "</table>\n",
              "</div>"
            ],
            "text/plain": [
              "       id             dateAdded  ...               reviews.title  reviews.username\n",
              "5776   22  2015-10-30T08:59:32Z  ...                      GREAT!       ByMaynor A.\n",
              "3515   45  2017-03-06T14:59:43Z  ...                It's alright             JMH28\n",
              "22529  33  2016-06-08T03:50:06Z  ...  Nice product for the price        Momofthree\n",
              "21273  41  2017-03-06T14:59:25Z  ...                  Great Gift             WifiG\n",
              "1686   22  2015-10-30T08:59:32Z  ...                  Five Stars           ByAngie\n",
              "\n",
              "[5 rows x 17 columns]"
            ]
          },
          "metadata": {},
          "execution_count": 52
        }
      ]
    },
    {
      "cell_type": "code",
      "metadata": {
        "colab": {
          "base_uri": "https://localhost:8080/"
        },
        "id": "EohF-jd_6Uuz",
        "outputId": "7b13354c-fd7f-432d-dc01-30938fa9f9c3"
      },
      "source": [
        "lower_bound = 0\n",
        "upper_bound = 5\n",
        "x = data[(data['reviews.rating'] < lower_bound) | (data['reviews.rating'] > upper_bound)].index\n",
        "print(len(x))"
      ],
      "execution_count": 53,
      "outputs": [
        {
          "output_type": "stream",
          "name": "stdout",
          "text": [
            "0\n"
          ]
        }
      ]
    },
    {
      "cell_type": "code",
      "metadata": {
        "id": "WupGsjDK-86T"
      },
      "source": [
        ""
      ],
      "execution_count": 53,
      "outputs": []
    }
  ]
}